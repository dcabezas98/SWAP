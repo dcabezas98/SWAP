{
 "cells": [
  {
   "cell_type": "code",
   "execution_count": 7,
   "metadata": {},
   "outputs": [],
   "source": [
    "%matplotlib qt5"
   ]
  },
  {
   "cell_type": "code",
   "execution_count": 8,
   "metadata": {},
   "outputs": [],
   "source": [
    "import pandas as pd\n",
    "import numpy as np\n",
    "import matplotlib.pyplot as plt"
   ]
  },
  {
   "cell_type": "code",
   "execution_count": 9,
   "metadata": {},
   "outputs": [],
   "source": [
    "balancers=['NGINX', 'HAProxy', 'Pound', 'Gobetween', 'Zevenet']"
   ]
  },
  {
   "cell_type": "code",
   "execution_count": 10,
   "metadata": {},
   "outputs": [
    {
     "data": {
      "text/html": [
       "<div>\n",
       "<style scoped>\n",
       "    .dataframe tbody tr th:only-of-type {\n",
       "        vertical-align: middle;\n",
       "    }\n",
       "\n",
       "    .dataframe tbody tr th {\n",
       "        vertical-align: top;\n",
       "    }\n",
       "\n",
       "    .dataframe thead th {\n",
       "        text-align: right;\n",
       "    }\n",
       "</style>\n",
       "<table border=\"1\" class=\"dataframe\">\n",
       "  <thead>\n",
       "    <tr style=\"text-align: right;\">\n",
       "      <th></th>\n",
       "      <th>Predeterminado</th>\n",
       "      <th>Persistencia</th>\n",
       "    </tr>\n",
       "  </thead>\n",
       "  <tbody>\n",
       "    <tr>\n",
       "      <th>NGINX</th>\n",
       "      <td>1946.20</td>\n",
       "      <td>2119.05</td>\n",
       "    </tr>\n",
       "    <tr>\n",
       "      <th>HAProxy</th>\n",
       "      <td>1666.10</td>\n",
       "      <td>1718.69</td>\n",
       "    </tr>\n",
       "    <tr>\n",
       "      <th>Pound</th>\n",
       "      <td>1259.00</td>\n",
       "      <td>1185.10</td>\n",
       "    </tr>\n",
       "    <tr>\n",
       "      <th>Gobetween</th>\n",
       "      <td>1421.19</td>\n",
       "      <td>1364.69</td>\n",
       "    </tr>\n",
       "    <tr>\n",
       "      <th>Zevenet</th>\n",
       "      <td>1552.40</td>\n",
       "      <td>1621.64</td>\n",
       "    </tr>\n",
       "  </tbody>\n",
       "</table>\n",
       "</div>"
      ],
      "text/plain": [
       "           Predeterminado  Persistencia\n",
       "NGINX             1946.20       2119.05\n",
       "HAProxy           1666.10       1718.69\n",
       "Pound             1259.00       1185.10\n",
       "Gobetween         1421.19       1364.69\n",
       "Zevenet           1552.40       1621.64"
      ]
     },
     "execution_count": 10,
     "metadata": {},
     "output_type": "execute_result"
    }
   ],
   "source": [
    "df=pd.DataFrame(data={'Predeterminado':[1946.2, 1666.1, 1259, 1421.19, 1552.4],\n",
    "                       'Persistencia':[2119.05, 1718.69, 1185.1, 1364.69, 1621.64]},\n",
    "               index=balancers)\n",
    "df"
   ]
  },
  {
   "cell_type": "code",
   "execution_count": 11,
   "metadata": {},
   "outputs": [],
   "source": [
    "def autolabel(rects):\n",
    "    \"\"\"Attach a text label above each bar in *rects*, displaying its height.\"\"\"\n",
    "    for rect in rects:\n",
    "        height = rect.get_height()\n",
    "        ax.annotate('{}'.format(height),\n",
    "                    xy=(rect.get_x() + rect.get_width() / 2, height),\n",
    "                    xytext=(0, 2),  # 3 points vertical offset\n",
    "                    textcoords=\"offset points\",\n",
    "                    ha='center', va='bottom')"
   ]
  },
  {
   "cell_type": "code",
   "execution_count": 12,
   "metadata": {},
   "outputs": [],
   "source": [
    "x=np.arange(len(balancers))\n",
    "width=0.45\n",
    "fig, ax = plt.subplots()\n",
    "rects1 = ax.bar(x - width/2, np.array(df[['Predeterminado']]).flatten(), width, label='Predeterminado')\n",
    "rects2 = ax.bar(x + width/2, np.array(df[['Persistencia']]).flatten(), width, label='Persistencia')\n",
    "\n",
    "ax.set_ylabel('Peticiones por segundo')\n",
    "ax.set_title('Desempeño de los balanceadores')\n",
    "ax.set_xticks(x)\n",
    "ax.set_xticklabels(balancers)\n",
    "ax.legend()\n",
    "\n",
    "autolabel(rects1)\n",
    "autolabel(rects2)\n",
    "\n",
    "fig.tight_layout()\n",
    "\n",
    "plt.show()"
   ]
  }
 ],
 "metadata": {
  "kernelspec": {
   "display_name": "Python 3",
   "language": "python",
   "name": "python3"
  },
  "language_info": {
   "codemirror_mode": {
    "name": "ipython",
    "version": 3
   },
   "file_extension": ".py",
   "mimetype": "text/x-python",
   "name": "python",
   "nbconvert_exporter": "python",
   "pygments_lexer": "ipython3",
   "version": "3.8.5"
  }
 },
 "nbformat": 4,
 "nbformat_minor": 4
}
